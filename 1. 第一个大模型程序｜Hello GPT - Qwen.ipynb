{
  "cells": [
    {
      "cell_type": "markdown",
      "metadata": {
        "id": "view-in-github",
        "colab_type": "text"
      },
      "source": [
        "<a href=\"https://colab.research.google.com/github/jasonadu/gpt_in_practice/blob/main/1.%20%E7%AC%AC%E4%B8%80%E4%B8%AA%E5%A4%A7%E6%A8%A1%E5%9E%8B%E7%A8%8B%E5%BA%8F%EF%BD%9CHello%20GPT%20-%20Qwen.ipynb\" target=\"_parent\"><img src=\"https://colab.research.google.com/assets/colab-badge.svg\" alt=\"Open In Colab\"/></a>"
      ]
    },
    {
      "cell_type": "code",
      "source": [
        "!pip install -U openai"
      ],
      "metadata": {
        "id": "NjvX5uiiwr2t",
        "outputId": "2e135436-e94e-48cc-f64f-2df8eeca59cf",
        "colab": {
          "base_uri": "https://localhost:8080/"
        }
      },
      "id": "NjvX5uiiwr2t",
      "execution_count": null,
      "outputs": [
        {
          "output_type": "stream",
          "name": "stdout",
          "text": [
            "Requirement already satisfied: openai in /usr/local/lib/python3.11/dist-packages (1.98.0)\n",
            "Collecting openai\n",
            "  Downloading openai-1.99.3-py3-none-any.whl.metadata (29 kB)\n",
            "Requirement already satisfied: anyio<5,>=3.5.0 in /usr/local/lib/python3.11/dist-packages (from openai) (4.10.0)\n",
            "Requirement already satisfied: distro<2,>=1.7.0 in /usr/local/lib/python3.11/dist-packages (from openai) (1.9.0)\n",
            "Requirement already satisfied: httpx<1,>=0.23.0 in /usr/local/lib/python3.11/dist-packages (from openai) (0.28.1)\n",
            "Requirement already satisfied: jiter<1,>=0.4.0 in /usr/local/lib/python3.11/dist-packages (from openai) (0.10.0)\n",
            "Requirement already satisfied: pydantic<3,>=1.9.0 in /usr/local/lib/python3.11/dist-packages (from openai) (2.11.7)\n",
            "Requirement already satisfied: sniffio in /usr/local/lib/python3.11/dist-packages (from openai) (1.3.1)\n",
            "Requirement already satisfied: tqdm>4 in /usr/local/lib/python3.11/dist-packages (from openai) (4.67.1)\n",
            "Requirement already satisfied: typing-extensions<5,>=4.11 in /usr/local/lib/python3.11/dist-packages (from openai) (4.14.1)\n",
            "Requirement already satisfied: idna>=2.8 in /usr/local/lib/python3.11/dist-packages (from anyio<5,>=3.5.0->openai) (3.10)\n",
            "Requirement already satisfied: certifi in /usr/local/lib/python3.11/dist-packages (from httpx<1,>=0.23.0->openai) (2025.8.3)\n",
            "Requirement already satisfied: httpcore==1.* in /usr/local/lib/python3.11/dist-packages (from httpx<1,>=0.23.0->openai) (1.0.9)\n",
            "Requirement already satisfied: h11>=0.16 in /usr/local/lib/python3.11/dist-packages (from httpcore==1.*->httpx<1,>=0.23.0->openai) (0.16.0)\n",
            "Requirement already satisfied: annotated-types>=0.6.0 in /usr/local/lib/python3.11/dist-packages (from pydantic<3,>=1.9.0->openai) (0.7.0)\n",
            "Requirement already satisfied: pydantic-core==2.33.2 in /usr/local/lib/python3.11/dist-packages (from pydantic<3,>=1.9.0->openai) (2.33.2)\n",
            "Requirement already satisfied: typing-inspection>=0.4.0 in /usr/local/lib/python3.11/dist-packages (from pydantic<3,>=1.9.0->openai) (0.4.1)\n",
            "Downloading openai-1.99.3-py3-none-any.whl (785 kB)\n",
            "\u001b[2K   \u001b[90m━━━━━━━━━━━━━━━━━━━━━━━━━━━━━━━━━━━━━━━━\u001b[0m \u001b[32m785.8/785.8 kB\u001b[0m \u001b[31m12.4 MB/s\u001b[0m eta \u001b[36m0:00:00\u001b[0m\n",
            "\u001b[?25hInstalling collected packages: openai\n",
            "  Attempting uninstall: openai\n",
            "    Found existing installation: openai 1.98.0\n",
            "    Uninstalling openai-1.98.0:\n",
            "      Successfully uninstalled openai-1.98.0\n",
            "Successfully installed openai-1.99.3\n"
          ]
        }
      ]
    },
    {
      "cell_type": "code",
      "source": [
        "!pip show openai"
      ],
      "metadata": {
        "id": "R_AV-qgVx9wk",
        "outputId": "d1da34b9-51a5-4a96-df02-651bd96ee455",
        "colab": {
          "base_uri": "https://localhost:8080/"
        }
      },
      "id": "R_AV-qgVx9wk",
      "execution_count": null,
      "outputs": [
        {
          "output_type": "stream",
          "name": "stdout",
          "text": [
            "Name: openai\n",
            "Version: 1.99.3\n",
            "Summary: The official Python library for the openai API\n",
            "Home-page: https://github.com/openai/openai-python\n",
            "Author: \n",
            "Author-email: OpenAI <support@openai.com>\n",
            "License: Apache-2.0\n",
            "Location: /usr/local/lib/python3.11/dist-packages\n",
            "Requires: anyio, distro, httpx, jiter, pydantic, sniffio, tqdm, typing-extensions\n",
            "Required-by: \n"
          ]
        }
      ]
    },
    {
      "cell_type": "markdown",
      "source": [
        "使用 keyring 库安全地存储敏感信息\n",
        "如果你需要存储API密钥、密码等敏感信息，不应该直接写在代码中。Colab提供了一个内置的keyring功能，可以与你的Google账户关联，安全地存储这些信息。\n",
        "\n",
        "1. 在Colab界面的左侧，点击钥匙图标（Secrets）。\n",
        "\n",
        "2. 点击 Add new secret，输入变量名和对应的值。\n",
        "\n",
        "3. 在Notebook中，你可以这样访问：\n",
        "```\n",
        "from google.colab import userdata\n",
        "访问你在Secrets中设置的MY_API_KEY\n",
        "my_api_key = userdata.get('MY_API_KEY')\n",
        "print(my_api_key)\n",
        "```\n",
        "\n",
        "特点：\n",
        "- 安全性： 你的敏感信息不会暴露在Notebook中，即使你分享Notebook，其他人也无法看到。\n",
        "\n",
        "- 持久性： 这些变量会与你的Google账户绑定，即使重启或更换运行时，它们仍然存在。\n",
        "\n",
        "- 使用场景： 强烈推荐用于存储API密钥、密码、令牌等敏感数据。"
      ],
      "metadata": {
        "id": "6K9LF1WB8UUJ"
      },
      "id": "6K9LF1WB8UUJ"
    },
    {
      "cell_type": "markdown",
      "source": [
        "## 1st LLM（Qwen） calling"
      ],
      "metadata": {
        "id": "cksVYyjFyEWd"
      },
      "id": "cksVYyjFyEWd"
    },
    {
      "cell_type": "code",
      "source": [
        "import os\n",
        "from openai import OpenAI\n",
        "from google.colab import userdata\n",
        "\n",
        "client = OpenAI(\n",
        "    # 若没有配置环境变量，请用百炼API Key将下行替换为：api_key=\"sk-xxx\",\n",
        "    # api_key=os.getenv(\"DASHSCOPE_API_KEY\"),\n",
        "    # 访问你在Secrets中设置的key\n",
        "    api_key=userdata.get('DASHSCOPE_API_KEY'),\n",
        "    base_url=\"https://dashscope.aliyuncs.com/compatible-mode/v1\",\n",
        ")\n",
        "\n",
        "completion = client.chat.completions.create(\n",
        "    # 模型列表：https://help.aliyun.com/zh/model-studio/getting-started/models\n",
        "    model=\"qwen-plus\",\n",
        "    messages=[\n",
        "        {\"role\": \"system\", \"content\": \"You are a helpful assistant.\"},\n",
        "        {\"role\": \"user\", \"content\": \"你是谁？\"},\n",
        "    ],\n",
        "    # Qwen3模型通过enable_thinking参数控制思考过程（开源版默认True，商业版默认False）\n",
        "    # 使用Qwen3开源版模型时，若未启用流式输出，请将下行取消注释，否则会报错\n",
        "    # extra_body={\"enable_thinking\": False},\n",
        ")\n",
        "print(completion.model_dump_json())\n",
        "print(completion.choices[0].message.content)"
      ],
      "metadata": {
        "id": "iXFsE1BEySjN",
        "outputId": "b5742bb1-f448-40cb-b835-cc5272e9398b",
        "colab": {
          "base_uri": "https://localhost:8080/"
        }
      },
      "id": "iXFsE1BEySjN",
      "execution_count": null,
      "outputs": [
        {
          "output_type": "stream",
          "name": "stdout",
          "text": [
            "{\"id\":\"chatcmpl-85e2091c-a645-9829-9ad9-8a2b09176747\",\"choices\":[{\"finish_reason\":\"stop\",\"index\":0,\"logprobs\":null,\"message\":{\"content\":\"我是通义千问，阿里巴巴集团旗下的通义实验室自主研发的超大规模语言模型。我可以帮助你回答问题、创作文字，比如写故事、写公文、写邮件、写剧本、逻辑推理、编程等等，还能表达观点，玩游戏等。如果你有任何问题或需要帮助，欢迎随时告诉我！\",\"refusal\":null,\"role\":\"assistant\",\"annotations\":null,\"audio\":null,\"function_call\":null,\"tool_calls\":null}}],\"created\":1754658447,\"model\":\"qwen-plus\",\"object\":\"chat.completion\",\"service_tier\":null,\"system_fingerprint\":null,\"usage\":{\"completion_tokens\":66,\"prompt_tokens\":26,\"total_tokens\":92,\"completion_tokens_details\":null,\"prompt_tokens_details\":{\"audio_tokens\":null,\"cached_tokens\":0}}}\n",
            "我是通义千问，阿里巴巴集团旗下的通义实验室自主研发的超大规模语言模型。我可以帮助你回答问题、创作文字，比如写故事、写公文、写邮件、写剧本、逻辑推理、编程等等，还能表达观点，玩游戏等。如果你有任何问题或需要帮助，欢迎随时告诉我！\n"
          ]
        }
      ]
    },
    {
      "cell_type": "code",
      "source": [
        "print([choice.message.content for choice in completion.choices])"
      ],
      "metadata": {
        "id": "DlNtNMOry5SN",
        "outputId": "ca4567b5-8ff7-4044-f3f9-afbd15388a84",
        "colab": {
          "base_uri": "https://localhost:8080/"
        }
      },
      "id": "DlNtNMOry5SN",
      "execution_count": null,
      "outputs": [
        {
          "output_type": "stream",
          "name": "stdout",
          "text": [
            "['我是通义千问，阿里巴巴集团旗下的通义实验室自主研发的超大规模语言模型。我可以帮助你回答问题、创作文字，比如写故事、写公文、写邮件、写剧本、逻辑推理、编程等等，还能表达观点，玩游戏等。如果你有任何问题或需要帮助，欢迎随时告诉我！']\n"
          ]
        }
      ]
    },
    {
      "cell_type": "markdown",
      "source": [
        "### 参数测试"
      ],
      "metadata": {
        "id": "wupug7x4zBOk"
      },
      "id": "wupug7x4zBOk"
    },
    {
      "cell_type": "code",
      "source": [
        "completion = client.chat.completions.create(\n",
        "    # 模型列表：https://help.aliyun.com/zh/model-studio/getting-started/models\n",
        "    model=\"qwen-plus\",\n",
        "    # model = \"qwen-turbo\",\n",
        "    messages=[\n",
        "        {\"role\": \"system\", \"content\": \"You are a helpful assistant.\"},\n",
        "        {\"role\": \"user\", \"content\": \"你好！你叫什么名字？\"},\n",
        "    ],\n",
        "    temperature = 1.9,\n",
        "    max_tokens = 2000,\n",
        "    n = 3\n",
        ")\n",
        "# no output, why?\n",
        "print(completion.choices[0].message.content)"
      ],
      "metadata": {
        "id": "_O35rQXGy_Fy",
        "outputId": "68b63e35-e9fb-4110-d838-b562d6e6e2b1",
        "colab": {
          "base_uri": "https://localhost:8080/"
        }
      },
      "id": "_O35rQXGy_Fy",
      "execution_count": null,
      "outputs": [
        {
          "output_type": "stream",
          "name": "stdout",
          "text": [
            "\n"
          ]
        }
      ]
    },
    {
      "cell_type": "code",
      "source": [
        "print(completion)"
      ],
      "metadata": {
        "id": "EMyb4xqmzYQB",
        "outputId": "59b19b4b-4f23-4267-c241-604e57296447",
        "colab": {
          "base_uri": "https://localhost:8080/"
        }
      },
      "id": "EMyb4xqmzYQB",
      "execution_count": null,
      "outputs": [
        {
          "output_type": "stream",
          "name": "stdout",
          "text": [
            "ChatCompletion(id='chatcmpl-1fd6be2c-b2db-9442-b3f8-cc2427ea51c7', choices=[Choice(finish_reason='stop', index=0, logprobs=None, message=ChatCompletionMessage(content='', refusal=None, role='assistant', annotations=None, audio=None, function_call=None, tool_calls=None)), Choice(finish_reason='stop', index=1, logprobs=None, message=ChatCompletionMessage(content='', refusal=None, role='assistant', annotations=None, audio=None, function_call=None, tool_calls=None)), Choice(finish_reason='stop', index=2, logprobs=None, message=ChatCompletionMessage(content='', refusal=None, role='assistant', annotations=None, audio=None, function_call=None, tool_calls=None))], created=1754658573, model='qwen-plus', object='chat.completion', service_tier=None, system_fingerprint=None, usage=CompletionUsage(completion_tokens=153, prompt_tokens=30, total_tokens=183, completion_tokens_details=None, prompt_tokens_details=None))\n"
          ]
        }
      ]
    },
    {
      "cell_type": "code",
      "source": [
        "print([choice.message.content for choice in completion.choices])"
      ],
      "metadata": {
        "id": "MKSLF97ZzLAa"
      },
      "id": "MKSLF97ZzLAa",
      "execution_count": null,
      "outputs": []
    },
    {
      "cell_type": "markdown",
      "id": "4d9ff976",
      "metadata": {
        "id": "4d9ff976"
      },
      "source": [
        "# Token"
      ]
    },
    {
      "cell_type": "code",
      "execution_count": null,
      "id": "3b04096b",
      "metadata": {
        "id": "3b04096b",
        "outputId": "6be8d57d-9e28-44c5-9761-1bb7c3c95bed",
        "colab": {
          "base_uri": "https://localhost:8080/"
        }
      },
      "outputs": [
        {
          "output_type": "stream",
          "name": "stdout",
          "text": [
            "Requirement already satisfied: tiktoken in /usr/local/lib/python3.11/dist-packages (0.9.0)\n",
            "Requirement already satisfied: regex>=2022.1.18 in /usr/local/lib/python3.11/dist-packages (from tiktoken) (2024.11.6)\n",
            "Requirement already satisfied: requests>=2.26.0 in /usr/local/lib/python3.11/dist-packages (from tiktoken) (2.32.3)\n",
            "Requirement already satisfied: charset-normalizer<4,>=2 in /usr/local/lib/python3.11/dist-packages (from requests>=2.26.0->tiktoken) (3.4.2)\n",
            "Requirement already satisfied: idna<4,>=2.5 in /usr/local/lib/python3.11/dist-packages (from requests>=2.26.0->tiktoken) (3.10)\n",
            "Requirement already satisfied: urllib3<3,>=1.21.1 in /usr/local/lib/python3.11/dist-packages (from requests>=2.26.0->tiktoken) (2.5.0)\n",
            "Requirement already satisfied: certifi>=2017.4.17 in /usr/local/lib/python3.11/dist-packages (from requests>=2.26.0->tiktoken) (2025.8.3)\n"
          ]
        }
      ],
      "source": [
        "!pip install tiktoken"
      ]
    },
    {
      "cell_type": "code",
      "execution_count": null,
      "id": "54b967e9",
      "metadata": {
        "id": "54b967e9",
        "outputId": "373b97a1-1b1b-40b2-926a-a993926c7fbf",
        "colab": {
          "base_uri": "https://localhost:8080/"
        }
      },
      "outputs": [
        {
          "output_type": "stream",
          "name": "stdout",
          "text": [
            "[19000, 39442, 37507, 98806, 81543, 28037, 37507, 9554, 13646, 20022, 247, 3922, 60843, 31634, 19361, 17792, 24326, 232, 8676, 225, 6701, 249, 67178, 20834, 37507, 3922, 45932, 96, 19483, 17792, 51611, 76982, 21043, 98739, 1811]\n",
            "chinese:在未来还没有到来的时候，总要有人把它创造出来，那个人应该是我们。 ; 35 tokens\n",
            "\n"
          ]
        }
      ],
      "source": [
        "import openai\n",
        "import tiktoken\n",
        "\n",
        "encoding = tiktoken.encoding_for_model(\"gpt-4\")\n",
        "\n",
        "chinese = \"\"\"在未来还没有到来的时候，总要有人把它创造出来，那个人应该是我们。\"\"\"\n",
        "\n",
        "tokens = encoding.encode(chinese)\n",
        "\n",
        "print(tokens)\n",
        "\n",
        "num_of_tokens_in_chinese = len(encoding.encode(chinese))\n",
        "\n",
        "print(f\"chinese:{chinese} ; {num_of_tokens_in_chinese} tokens\\n\")\n"
      ]
    },
    {
      "cell_type": "code",
      "execution_count": null,
      "id": "ea48fe92",
      "metadata": {
        "id": "ea48fe92"
      },
      "outputs": [],
      "source": []
    }
  ],
  "metadata": {
    "kernelspec": {
      "display_name": "Python 3 (ipykernel)",
      "language": "python",
      "name": "python3"
    },
    "language_info": {
      "codemirror_mode": {
        "name": "ipython",
        "version": 3
      },
      "file_extension": ".py",
      "mimetype": "text/x-python",
      "name": "python",
      "nbconvert_exporter": "python",
      "pygments_lexer": "ipython3",
      "version": "3.11.4"
    },
    "colab": {
      "provenance": [],
      "include_colab_link": true
    }
  },
  "nbformat": 4,
  "nbformat_minor": 5
}