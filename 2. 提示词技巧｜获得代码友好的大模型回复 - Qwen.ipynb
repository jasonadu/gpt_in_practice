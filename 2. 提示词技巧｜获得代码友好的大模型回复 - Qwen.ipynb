{
  "cells": [
    {
      "cell_type": "markdown",
      "metadata": {
        "id": "view-in-github",
        "colab_type": "text"
      },
      "source": [
        "<a href=\"https://colab.research.google.com/github/jasonadu/gpt_in_practice/blob/main/2.%20%E6%8F%90%E7%A4%BA%E8%AF%8D%E6%8A%80%E5%B7%A7%EF%BD%9C%E8%8E%B7%E5%BE%97%E4%BB%A3%E7%A0%81%E5%8F%8B%E5%A5%BD%E7%9A%84%E5%A4%A7%E6%A8%A1%E5%9E%8B%E5%9B%9E%E5%A4%8D%20-%20Qwen.ipynb\" target=\"_parent\"><img src=\"https://colab.research.google.com/assets/colab-badge.svg\" alt=\"Open In Colab\"/></a>"
      ]
    },
    {
      "cell_type": "markdown",
      "id": "fa3cbfcf",
      "metadata": {
        "id": "fa3cbfcf"
      },
      "source": [
        "# 回顾"
      ]
    },
    {
      "cell_type": "code",
      "execution_count": null,
      "id": "337c6f9c",
      "metadata": {
        "id": "337c6f9c"
      },
      "outputs": [],
      "source": [
        "deployment=\"gpt4\" #在azure中的deployment name\n",
        "model=\"gpt-4\""
      ]
    },
    {
      "cell_type": "code",
      "execution_count": null,
      "id": "99c60769",
      "metadata": {
        "id": "99c60769"
      },
      "outputs": [],
      "source": [
        "def translate(text):\n",
        "    messages = []\n",
        "    messages.append( {\"role\": \"system\",\n",
        "                      \"content\": \"You are a translator. Please, translate the user's request to English.\"})\n",
        "    messages.append( {\"role\": \"user\", \"content\": text})\n",
        "    response = openai.ChatCompletion.create(\n",
        "        engine=deployment,\n",
        "        model=model,\n",
        "        messages=messages,\n",
        "        temperature=0.5,\n",
        "        max_tokens = 100\n",
        "    )\n",
        "    return response[\"choices\"][0][\"message\"][\"content\"]"
      ]
    },
    {
      "cell_type": "code",
      "execution_count": null,
      "id": "e2c83b7f",
      "metadata": {
        "id": "e2c83b7f",
        "outputId": "93648c61-5ba7-4402-b518-d32be457129e"
      },
      "outputs": [
        {
          "name": "stdout",
          "output_type": "stream",
          "text": [
            "<Encoding 'cl100k_base'>\n",
            "chinese:在未来还没有到来的时候，总要有人把它创造出来，那个人应该是我们。 ; 35 tokens\n",
            "\n",
            "english:Before the future arrives, there always needs to be someone to create it, and that person should be us. ; 22 tokens\n",
            "\n"
          ]
        }
      ],
      "source": [
        "import openai\n",
        "import tiktoken\n",
        "\n",
        "encoding = tiktoken.encoding_for_model(\"gpt-4\")\n",
        "\n",
        "print(encoding)\n",
        "\n",
        "chinese = \"\"\"在未来还没有到来的时候，总要有人把它创造出来，那个人应该是我们。\"\"\"\n",
        "english = translate(chinese)\n",
        "\n",
        "num_of_tokens_in_chinese = len(encoding.encode(chinese))\n",
        "num_of_tokens_in_english = len(encoding.encode(english))\n",
        "\n",
        "print(f\"chinese:{chinese} ; {num_of_tokens_in_chinese} tokens\\n\")\n",
        "print(f\"english:{english} ; {num_of_tokens_in_english} tokens\\n\")"
      ]
    },
    {
      "cell_type": "markdown",
      "id": "9daae292",
      "metadata": {
        "id": "9daae292"
      },
      "source": [
        "# 常见应用场景"
      ]
    },
    {
      "cell_type": "markdown",
      "id": "6f8773d0",
      "metadata": {
        "id": "6f8773d0"
      },
      "source": [
        "## 意图识别"
      ]
    },
    {
      "cell_type": "code",
      "execution_count": 1,
      "id": "f0713ebf",
      "metadata": {
        "id": "f0713ebf",
        "outputId": "b33f4441-4697-411b-b2f5-6099b190cf7b",
        "colab": {
          "base_uri": "https://localhost:8080/"
        }
      },
      "outputs": [
        {
          "output_type": "stream",
          "name": "stdout",
          "text": [
            "好的，我将为您设置一个明天早上的8点会议提醒。请问还有其他需要补充的信息吗？例如会议的主题或地点，我可以帮您记录下来。\n"
          ]
        }
      ],
      "source": [
        "import os\n",
        "from openai import OpenAI\n",
        "from google.colab import userdata\n",
        "\n",
        "client = OpenAI(\n",
        "    api_key=userdata.get('DASHSCOPE_API_KEY'),\n",
        "    base_url=\"https://dashscope.aliyuncs.com/compatible-mode/v1\",\n",
        ")\n",
        "\n",
        "completion = client.chat.completions.create(\n",
        "    # 模型列表：https://help.aliyun.com/zh/model-studio/getting-started/models\n",
        "    model=\"qwen-plus\",\n",
        "    messages=[\n",
        "        {\"role\": \"system\", \"content\": \"\"\"\n",
        "        Recognize the intent from the user's input.\n",
        "        \"\"\"},\n",
        "        {\"role\": \"user\", \"content\": \"提醒我明早8点有会议\"},\n",
        "    ]\n",
        ")\n",
        "\n",
        "print(completion.choices[0].message.content)"
      ]
    },
    {
      "cell_type": "markdown",
      "id": "786389c2",
      "metadata": {
        "id": "786389c2"
      },
      "source": [
        "## 生成SQL"
      ]
    },
    {
      "cell_type": "code",
      "execution_count": 3,
      "id": "ce8e1807",
      "metadata": {
        "id": "ce8e1807",
        "outputId": "5f57b13a-5efc-4b16-bea1-ae67c0f746d4",
        "colab": {
          "base_uri": "https://localhost:8080/"
        }
      },
      "outputs": [
        {
          "output_type": "stream",
          "name": "stdout",
          "text": [
            "要计算所有学生在英语课程中的平均成绩，我们需要进行以下步骤：\n",
            "\n",
            "1. 在 `courses` 表中找到英语课程的 `id`。\n",
            "2. 在 `students` 表中筛选出该 `course_id` 的记录。\n",
            "3. 计算这些记录的 `score` 的平均值。\n",
            "\n",
            "以下是实现的 SQL 查询：\n",
            "\n",
            "```sql\n",
            "SELECT AVG(students.score) AS average_score\n",
            "FROM students\n",
            "JOIN courses ON students.course_id = courses.id\n",
            "WHERE courses.name = '英语';\n",
            "```\n",
            "\n",
            "### 解释：\n",
            "- `JOIN` 用于将 `students` 和 `courses` 表连接起来。\n",
            "- `WHERE courses.name = '英语'` 筛选出英语课程。\n",
            "- `AVG(students.score)` 计算英语课程的平均成绩。\n",
            "\n",
            "运行此查询后，你将得到所有学生在英语课程上的平均分数。\n"
          ]
        }
      ],
      "source": [
        "import openai, os\n",
        "\n",
        "system_prompt =  \"\"\"  You are a software engineer, you can anwser the user request based on the given tables:\n",
        "                  table “students“ with the columns [id, name, course_id, score]\n",
        "                  table \"courses\" with the columns [id, name]\n",
        "                  \"\"\"\n",
        "\n",
        "completion = client.chat.completions.create(\n",
        "    # 模型列表：https://help.aliyun.com/zh/model-studio/getting-started/models\n",
        "    model=\"qwen-plus\",\n",
        "    messages=[\n",
        "        {\"role\": \"system\", \"content\": system_prompt},\n",
        "        {\"role\": \"user\", \"content\": \"计算所有学生英语课程的平均成绩\"},\n",
        "    ]\n",
        ")\n",
        "\n",
        "print(completion.choices[0].message.content)"
      ]
    },
    {
      "cell_type": "markdown",
      "id": "7c6ea8d7",
      "metadata": {
        "id": "7c6ea8d7"
      },
      "source": [
        "## 生成代码友好的提示词"
      ]
    },
    {
      "cell_type": "markdown",
      "id": "03ff7a80",
      "metadata": {
        "id": "03ff7a80"
      },
      "source": [
        "### 规范输出的格式"
      ]
    },
    {
      "cell_type": "code",
      "execution_count": 4,
      "id": "a327cd24",
      "metadata": {
        "id": "a327cd24",
        "outputId": "fd2e5841-11e3-487c-886c-b4cf0176adb0",
        "colab": {
          "base_uri": "https://localhost:8080/"
        }
      },
      "outputs": [
        {
          "output_type": "stream",
          "name": "stdout",
          "text": [
            "```json\n",
            "{\n",
            "  \"intention\": \"设置提醒\",\n",
            "  \"paramters\": {\n",
            "    \"时间\": \"明早8点\",\n",
            "    \"事件\": \"会议\"\n",
            "  }\n",
            "}\n",
            "```\n"
          ]
        }
      ],
      "source": [
        "completion = client.chat.completions.create(\n",
        "    # 模型列表：https://help.aliyun.com/zh/model-studio/getting-started/models\n",
        "    model=\"qwen-plus\",\n",
        "    messages=[\n",
        "        {\"role\": \"system\", \"content\":  \"\"\"\n",
        "          Recognize the intent from the user's input and format output as JSON string.\n",
        "        The output JSON string includes: \"intention\", \"paramters\" \"\"\"},\n",
        "        {\"role\": \"user\", \"content\": \"提醒我明早8点有会议\"}\n",
        "    ]\n",
        ")\n",
        "\n",
        "print(completion.choices[0].message.content)"
      ]
    },
    {
      "cell_type": "code",
      "execution_count": 5,
      "id": "e9ddc0b4",
      "metadata": {
        "id": "e9ddc0b4",
        "outputId": "769ce2fb-0adc-4d4a-b466-2ad2e1fe265c",
        "colab": {
          "base_uri": "https://localhost:8080/"
        }
      },
      "outputs": [
        {
          "output_type": "stream",
          "name": "stdout",
          "text": [
            "SELECT s.id, s.name, s.score\n",
            "FROM students s\n",
            "JOIN courses c ON s.course_id = c.id\n",
            "WHERE c.name = '英语' AND s.score > 80;\n"
          ]
        }
      ],
      "source": [
        "system_prompt =  \"\"\"  You are a software engineer, you can write a SQL string as the anwser according to the user request\n",
        "               The user's requirement is based on the given tables:\n",
        "                  table “students“ with the columns [id, name, course_id, score];\n",
        "                  table \"courses\" with the columns [id, name].\"\"\"\n",
        "\n",
        "completion = client.chat.completions.create(\n",
        "    # 模型列表：https://help.aliyun.com/zh/model-studio/getting-started/models\n",
        "    model=\"qwen-plus\",\n",
        "    messages=[\n",
        "        {\"role\": \"system\", \"content\":  system_prompt},\n",
        "        {\"role\": \"user\", \"content\": \"列出英语课程成绩大于80分的学生, 返回结果只包括SQL\"},\n",
        "    ]\n",
        ")\n",
        "\n",
        "print(completion.choices[0].message.content)"
      ]
    },
    {
      "cell_type": "markdown",
      "id": "446523a7",
      "metadata": {
        "id": "446523a7"
      },
      "source": [
        "### 文本规范异常输出的格式"
      ]
    },
    {
      "cell_type": "code",
      "execution_count": 6,
      "id": "17cfa279",
      "metadata": {
        "id": "17cfa279"
      },
      "outputs": [],
      "source": [
        "system_prompt =  \"\"\"  You are a software engineer, you can write a SQL string as the anwser according to the user request\n",
        "               The user's requirement is based on the given tables:\n",
        "                  table “students“ with the columns [id, name, course_id, score];\n",
        "                  table \"courses\" with the columns [id, name].\"\"\"\n",
        "\n",
        "system_prompt_with_negative =  \"\"\"\n",
        "You are a software engineer, you can write a SQL string as the anwser according to the user request.\n",
        "Also, when you cannot create the SQL query for the user's request based on the given tables, please, only return \"invalid request\"\n",
        "               The user's requirement is based on the given tables:\n",
        "                  table “students“ with the columns [id, name, course_id, score];\n",
        "                  table \"courses\" with the columns [id, name].\"\"\""
      ]
    },
    {
      "cell_type": "code",
      "execution_count": 7,
      "id": "2bac7b0c",
      "metadata": {
        "id": "2bac7b0c",
        "outputId": "05d7a3e8-e471-4bd0-ac91-1eb57ed41a71",
        "colab": {
          "base_uri": "https://localhost:8080/"
        }
      },
      "outputs": [
        {
          "output_type": "stream",
          "name": "stdout",
          "text": [
            "根据你的描述，表结构中并没有“年龄”字段，因此无法直接查询年龄大于13的学生。通常“年龄”信息可能在 `students` 表中，也可能在另外的表中（如 `users` 或 `profiles` 表），但根据你提供的信息，我们目前没有该字段。\n",
            "\n",
            "如果你是想根据出生日期（birthday）字段来计算年龄，并筛选年龄大于13的学生，请提供该字段。否则，请确认是否有其他字段或表包含年龄信息。\n",
            "\n",
            "如果你确实有误，且实际需求是列出学生信息（如成绩、所选课程等），请重新描述你的需求。\n",
            "\n",
            "假设你有一个 `birthdays` 表或字段，可以参考如下 SQL（假设字段为 `birthday`）：\n",
            "\n",
            "```sql\n",
            "SELECT *\n",
            "FROM students\n",
            "WHERE DATE_PART('year', AGE(birthday)) > 13;\n",
            "```\n",
            "\n",
            "如果你能提供更多字段信息，我可以给出更准确的 SQL。\n"
          ]
        }
      ],
      "source": [
        "prompt = system_prompt\n",
        "# prompt = system_prompt_with_negative\n",
        "completion = client.chat.completions.create(\n",
        "    # 模型列表：https://help.aliyun.com/zh/model-studio/getting-started/models\n",
        "    model=\"qwen-plus\",\n",
        "    messages=[\n",
        "        {\"role\": \"system\", \"content\":  prompt},\n",
        "        {\"role\": \"user\", \"content\": \"列出年龄大于13的学生\"}\n",
        "    ]\n",
        ")\n",
        "\n",
        "print(completion.choices[0].message.content)"
      ]
    },
    {
      "cell_type": "code",
      "execution_count": 8,
      "id": "31f3122c",
      "metadata": {
        "id": "31f3122c",
        "outputId": "7ec5a0e2-55e1-4875-ee63-6ca3d2c14c7a",
        "colab": {
          "base_uri": "https://localhost:8080/"
        }
      },
      "outputs": [
        {
          "output_type": "stream",
          "name": "stdout",
          "text": [
            "invalid request\n"
          ]
        }
      ],
      "source": [
        "# prompt = system_prompt\n",
        "prompt = system_prompt_with_negative\n",
        "completion = client.chat.completions.create(\n",
        "    # 模型列表：https://help.aliyun.com/zh/model-studio/getting-started/models\n",
        "    model=\"qwen-plus\",\n",
        "    messages=[\n",
        "        {\"role\": \"system\", \"content\":  prompt},\n",
        "        {\"role\": \"user\", \"content\": \"列出年龄大于13的学生\"}\n",
        "    ]\n",
        ")\n",
        "\n",
        "print(completion.choices[0].message.content)"
      ]
    },
    {
      "cell_type": "code",
      "source": [],
      "metadata": {
        "id": "rkwlm1Dn3cXZ"
      },
      "id": "rkwlm1Dn3cXZ",
      "execution_count": null,
      "outputs": []
    }
  ],
  "metadata": {
    "kernelspec": {
      "display_name": "Python 3 (ipykernel)",
      "language": "python",
      "name": "python3"
    },
    "language_info": {
      "codemirror_mode": {
        "name": "ipython",
        "version": 3
      },
      "file_extension": ".py",
      "mimetype": "text/x-python",
      "name": "python",
      "nbconvert_exporter": "python",
      "pygments_lexer": "ipython3",
      "version": "3.11.4"
    },
    "colab": {
      "provenance": [],
      "include_colab_link": true
    }
  },
  "nbformat": 4,
  "nbformat_minor": 5
}